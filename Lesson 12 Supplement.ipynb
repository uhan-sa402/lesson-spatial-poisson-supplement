{
 "cells": [
  {
   "cell_type": "markdown",
   "id": "bf83fe41-ec61-4b13-8a96-094b3bc20a61",
   "metadata": {},
   "source": [
    "**SA402 &#x25aa; Dynamic and Stochastic Models &#x25aa; Fall 2023 &#x25aa; Uhan**"
   ]
  },
  {
   "cell_type": "markdown",
   "id": "e21a6495-75f5-4dc3-ad24-6dac7a40e4f2",
   "metadata": {},
   "source": [
    "# Lesson 12 Supplement"
   ]
  },
  {
   "cell_type": "markdown",
   "id": "ddbedac4-1fe8-44e3-abc1-22a4427a011b",
   "metadata": {},
   "source": [
    "* Let's begin by importing `pandas` (a data analysis and manipulation library), `altair` (a data visualization library), and `random` (random number generation from the standard Python library)"
   ]
  },
  {
   "cell_type": "code",
   "execution_count": null,
   "id": "f8ba3265-f8e3-4c3c-aa23-adddbcf8fdaa",
   "metadata": {
    "tags": []
   },
   "outputs": [],
   "source": [
    "import pandas as pd\n",
    "import altair as alt\n",
    "import random"
   ]
  },
  {
   "cell_type": "markdown",
   "id": "ad930eb1-3bf4-4662-bc0f-bff73e9cfd46",
   "metadata": {},
   "source": [
    "* Let's establish some parameters:\n",
    "\n",
    "\\begin{align*}\n",
    "L & = \\text{length of interval}\\\\\n",
    "M & = \\text{number of locations}\n",
    "\\end{align*}"
   ]
  },
  {
   "cell_type": "code",
   "execution_count": null,
   "id": "0ad10fbd-f216-4091-9437-7e9dda6fff17",
   "metadata": {
    "tags": []
   },
   "outputs": [],
   "source": [
    "L = 50\n",
    "M = 100\n",
    "\n",
    "print(f'Location frequency rate: {M / L}')"
   ]
  },
  {
   "cell_type": "markdown",
   "id": "a7f26d10-b748-432a-84cc-f0b8abc41999",
   "metadata": {},
   "source": [
    "* Now, let's distribute $M$ locations randomly along the interval $[0, L]$ according to the uniform distribution:"
   ]
  },
  {
   "cell_type": "code",
   "execution_count": null,
   "id": "551ea131-5f90-4f50-9828-70d8188cd87d",
   "metadata": {
    "tags": []
   },
   "outputs": [],
   "source": [
    "loc_df = pd.DataFrame({'location': [random.uniform(0, L) for i in range(M)]})\n",
    "\n",
    "# Display first 5 rows of loc_df\n",
    "loc_df.head()"
   ]
  },
  {
   "cell_type": "markdown",
   "id": "6c4f0870-1c19-47ab-bcca-974781fa6cac",
   "metadata": {},
   "source": [
    "* Let's visualize these locations:"
   ]
  },
  {
   "cell_type": "code",
   "execution_count": null,
   "id": "e16ddfe7-e3d2-436a-99a7-f7779a33905f",
   "metadata": {
    "tags": []
   },
   "outputs": [],
   "source": [
    "alt.Chart(loc_df).mark_point().encode(\n",
    "    alt.X('location:Q')\n",
    ").properties(\n",
    "    width=600\n",
    ")"
   ]
  },
  {
   "cell_type": "markdown",
   "id": "af4531f0-87f6-48c0-bd23-3c455043c0e6",
   "metadata": {},
   "source": [
    "* Next, let's compute the _interlocation distances_, or the distances between consecutive locations along the interval:"
   ]
  },
  {
   "cell_type": "code",
   "execution_count": null,
   "id": "e9c5e9ae-7832-4c6d-94f7-87902ff52e24",
   "metadata": {
    "tags": []
   },
   "outputs": [],
   "source": [
    "gap_df = ( \n",
    "    loc_df\n",
    "    .sort_values('location', ascending=True)\n",
    "    .assign(\n",
    "        gap=lambda x: x['location'].diff(1)\n",
    "    )\n",
    ")\n",
    "\n",
    "gap_df.head()"
   ]
  },
  {
   "cell_type": "markdown",
   "id": "6841a991-26f7-420c-9e5d-7488dc75ba62",
   "metadata": {},
   "source": [
    "* Finally, let's get a histogram of these interlocation distances &ndash; what does it look like?"
   ]
  },
  {
   "cell_type": "code",
   "execution_count": null,
   "id": "dc95879d-81b2-4e40-94ba-f0b3b8b9e97a",
   "metadata": {
    "tags": []
   },
   "outputs": [],
   "source": [
    "alt.Chart(gap_df).mark_bar().encode(\n",
    "    alt.X('gap:Q').bin(step=0.4),\n",
    "    alt.Y('count()')\n",
    ")"
   ]
  }
 ],
 "metadata": {
  "kernelspec": {
   "display_name": "Python 3 (ipykernel)",
   "language": "python",
   "name": "python3"
  },
  "language_info": {
   "codemirror_mode": {
    "name": "ipython",
    "version": 3
   },
   "file_extension": ".py",
   "mimetype": "text/x-python",
   "name": "python",
   "nbconvert_exporter": "python",
   "pygments_lexer": "ipython3",
   "version": "3.11.3"
  }
 },
 "nbformat": 4,
 "nbformat_minor": 5
}
